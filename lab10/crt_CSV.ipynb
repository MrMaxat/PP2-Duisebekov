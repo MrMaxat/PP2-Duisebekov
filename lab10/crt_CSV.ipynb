{
 "cells": [
  {
   "cell_type": "code",
   "execution_count": 1,
   "id": "1535fc6e",
   "metadata": {},
   "outputs": [],
   "source": [
    "# Creating CSV file \n",
    "\n",
    "import csv\n",
    "\n",
    "new_contacts = [\n",
    "    ['id', 'name', 'email', 'number', 'company'],\n",
    "    [6, 'contact 6', 'contact6@gmail.com', '87078622896', 'Company 6'],\n",
    "    [7, 'contact 7', 'contact7@gmail.com', '87078622897', 'Company 7'],\n",
    "    [8, 'contact 8', 'contact8@gmail.com', '87078622898', 'Company 8'],\n",
    "    [9, 'contact 9', 'contact9@gmail.com', '87078622899', 'Company 9'],\n",
    "    [10, 'contact 10', 'contact10@gmail.com', '87078622810', 'Company 10'],\n",
    "    [11, 'contact 11', 'contact11@gmail.com', '87078622811', 'Company 11'],\n",
    "    [12, 'contact 12', 'contact12@gmail.com', '87078622812', 'Company 12'],\n",
    "    [13, 'contact 13', 'contact13@gmail.com', '87078622813', 'Company 13'],\n",
    "    [14, 'contact 14', 'contact14@gmail.com', '87078622814', 'Company 14'],\n",
    "    [15, 'contact 15', 'contact15@gmail.com', '87078622815', 'Company 15'],\n",
    "\n",
    "]\n",
    "with open('new_contacts.csv', 'w') as f:\n",
    "    csv.writer(f).writerows(new_contacts)"
   ]
  },
  {
   "cell_type": "code",
   "execution_count": null,
   "id": "5db0ede5",
   "metadata": {},
   "outputs": [],
   "source": []
  }
 ],
 "metadata": {
  "kernelspec": {
   "display_name": "Python 3 (ipykernel)",
   "language": "python",
   "name": "python3"
  },
  "language_info": {
   "codemirror_mode": {
    "name": "ipython",
    "version": 3
   },
   "file_extension": ".py",
   "mimetype": "text/x-python",
   "name": "python",
   "nbconvert_exporter": "python",
   "pygments_lexer": "ipython3",
   "version": "3.9.13"
  }
 },
 "nbformat": 4,
 "nbformat_minor": 5
}
