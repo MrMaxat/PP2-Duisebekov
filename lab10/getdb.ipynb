{
 "cells": [
  {
   "cell_type": "code",
   "execution_count": null,
   "id": "ddd6bc76",
   "metadata": {},
   "outputs": [],
   "source": [
    "# Obtaining data from SQL \n",
    "\n",
    "import psycopg2\n",
    "\n",
    "conn = psycopg2.connect(\n",
    "    host=\"localhost\",\n",
    "    database=\"postgres\",\n",
    "    user=\"postgres\",\n",
    "    password=\"510149361Karim\",\n",
    ")\n",
    "\n",
    "sql = \"select * from phonebooks\" \n",
    "\n",
    "cursor = conn.cursor() \n",
    "cursor.execute(sql) \n",
    "conn.commit()\n",
    "\n",
    "contacts = cursor.fetchall()\n",
    "for contact in contacts:\n",
    "    print(contact)\n",
    "\n",
    "cursor.close() \n",
    "conn.close()"
   ]
  }
 ],
 "metadata": {
  "kernelspec": {
   "display_name": "Python 3 (ipykernel)",
   "language": "python",
   "name": "python3"
  },
  "language_info": {
   "codemirror_mode": {
    "name": "ipython",
    "version": 3
   },
   "file_extension": ".py",
   "mimetype": "text/x-python",
   "name": "python",
   "nbconvert_exporter": "python",
   "pygments_lexer": "ipython3",
   "version": "3.9.13"
  }
 },
 "nbformat": 4,
 "nbformat_minor": 5
}
