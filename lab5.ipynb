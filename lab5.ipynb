{
 "cells": [
  {
   "cell_type": "code",
   "execution_count": null,
   "id": "e5852b1a",
   "metadata": {},
   "outputs": [],
   "source": [
    "#1\n",
    "import re\n",
    "txt = input(\"Enter a string: \")\n",
    "x = re.search('a(b*)', txt)\n",
    "if x:\n",
    "    print(\"Match found:\", x.group())\n",
    "else:\n",
    "    print(\"No match\")"
   ]
  },
  {
   "cell_type": "code",
   "execution_count": null,
   "id": "1336b11e",
   "metadata": {},
   "outputs": [],
   "source": [
    "#2\n",
    "import re\n",
    "txt = input(\"Enter a string: \")\n",
    "x = re.search('a(b){2,3}', txt)\n",
    "if x:\n",
    "    print(\"Match found:\", x.group())\n",
    "else:\n",
    "    print(\"No match\")\n"
   ]
  },
  {
   "cell_type": "code",
   "execution_count": null,
   "id": "064744fa",
   "metadata": {},
   "outputs": [],
   "source": [
    "#3\n",
    "import re\n",
    "txt = input(\"Enter a string: \")\n",
    "x = re.findall('[a-z]+_[a-z]+', txt)\n",
    "if len(x) > 0:\n",
    "    print(\"Matches found:\")\n",
    "    for match in x:\n",
    "        print(match)\n",
    "else:\n",
    "    print(\"No match\")"
   ]
  },
  {
   "cell_type": "code",
   "execution_count": null,
   "id": "9648f020",
   "metadata": {},
   "outputs": [],
   "source": [
    "#4\n",
    "import re\n",
    "txt = input(\"Enter a string: \")\n",
    "x = re.findall('[A-Z][a-z]+', txt)\n",
    "if len(x) > 0:\n",
    "    print(\"Matches found:\")\n",
    "    for match in x:\n",
    "        print(match)\n",
    "else:\n",
    "    print(\"No match\")"
   ]
  },
  {
   "cell_type": "code",
   "execution_count": null,
   "id": "01757126",
   "metadata": {},
   "outputs": [],
   "source": [
    "#5\n",
    "import re\n",
    "txt = input(\"Enter a string: \")\n",
    "x = re.search('a.*b$', txt)\n",
    "if x:\n",
    "    print(\"Match found:\", x.group())\n",
    "else:\n",
    "    print(\"No match\")"
   ]
  },
  {
   "cell_type": "code",
   "execution_count": null,
   "id": "7c41b5a9",
   "metadata": {},
   "outputs": [],
   "source": [
    "#6\n",
    "import re\n",
    "txt = input(\"Enter a string: \")\n",
    "new_txt = re.sub('[ ,.]', \":\", txt)\n",
    "print(\"New string:\", new_txt)"
   ]
  },
  {
   "cell_type": "code",
   "execution_count": null,
   "id": "ebb355d2",
   "metadata": {},
   "outputs": [],
   "source": [
    "#7\n",
    "import re\n",
    "snake_case = input(\"Enter a snake case: \")\n",
    "camel_case = re.sub('_([a-z])', lambda match: match.group(1).upper(), snake_case)\n",
    "print(\"Camel case:\", camel_case)\n"
   ]
  },
  {
   "cell_type": "code",
   "execution_count": null,
   "id": "c22729e7",
   "metadata": {},
   "outputs": [],
   "source": [
    "#8\n",
    "import re\n",
    "txt = input(\"Enter a string: \")\n",
    "split_txt = re.findall('[A-Z][a-z]*', txt)\n",
    "print(\"Split text:\", split_txt)"
   ]
  },
  {
   "cell_type": "code",
   "execution_count": null,
   "id": "9aed3588",
   "metadata": {},
   "outputs": [],
   "source": [
    "#9\n",
    "import re\n",
    "txt = input(\"Enter a string: \")\n",
    "new_txt = re.sub('([a-z])([A-Z])', r'\\1 \\2', txt)\n",
    "print(\"New string: \", new_txt)"
   ]
  },
  {
   "cell_type": "code",
   "execution_count": null,
   "id": "9f8ba64a",
   "metadata": {},
   "outputs": [],
   "source": [
    "#10\n",
    "import re\n",
    "txt = input(\"Enter a camel case: \")\n",
    "new_txt = re.sub('([A-Z])', r'_\\1', txt).lower().lstrip('_')\n",
    "print(\"Snake case: \", new_txt)"
   ]
  },
  {
   "cell_type": "code",
   "execution_count": null,
   "id": "1a3addd0",
   "metadata": {},
   "outputs": [],
   "source": []
  }
 ],
 "metadata": {
  "kernelspec": {
   "display_name": "Python 3 (ipykernel)",
   "language": "python",
   "name": "python3"
  },
  "language_info": {
   "codemirror_mode": {
    "name": "ipython",
    "version": 3
   },
   "file_extension": ".py",
   "mimetype": "text/x-python",
   "name": "python",
   "nbconvert_exporter": "python",
   "pygments_lexer": "ipython3",
   "version": "3.9.13"
  }
 },
 "nbformat": 4,
 "nbformat_minor": 5
}
