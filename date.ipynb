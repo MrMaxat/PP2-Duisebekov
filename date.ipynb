{
 "cells": [
  {
   "cell_type": "code",
   "execution_count": 1,
   "id": "5391d51f",
   "metadata": {},
   "outputs": [
    {
     "name": "stdout",
     "output_type": "stream",
     "text": [
      "1641600.0\n"
     ]
    }
   ],
   "source": [
    "import datetime\n",
    "\n",
    "def fiveDaysAgo():\n",
    "    fiveDays = datetime.date.today() - datetime.timedelta(days = 5)\n",
    "    return fiveDays\n",
    "\n",
    "def yesterdayTodayTomorrow():\n",
    "    yesterday = datetime.date.today() - datetime.timedelta(days = 1)\n",
    "    tomorrow = datetime.date.today() + datetime.timedelta(days = 1)\n",
    "    today = datetime.date.today()\n",
    "    return f\"Yesterday: {yesterday}\\nToday: {today}\\nTomorrow: {tomorrow}\"\n",
    "\n",
    "def droppingMicroSeconds():\n",
    "    today = datetime.datetime.now()\n",
    "    today = str(today)\n",
    "    dateWithoutMseconds = today.split(\".\")\n",
    "    return dateWithoutMseconds[0]\n",
    "# print(droppingMicroSeconds())\n",
    "\n",
    "def diff():\n",
    "    dt1 = datetime.datetime.now()\n",
    "    dt2 = datetime.datetime.now() - datetime.timedelta(days = 19)\n",
    "    delta = dt1 - dt2\n",
    "    return delta.total_seconds()\n",
    "print(diff())"
   ]
  },
  {
   "cell_type": "code",
   "execution_count": null,
   "id": "8cf0e522",
   "metadata": {},
   "outputs": [],
   "source": []
  }
 ],
 "metadata": {
  "kernelspec": {
   "display_name": "Python 3 (ipykernel)",
   "language": "python",
   "name": "python3"
  },
  "language_info": {
   "codemirror_mode": {
    "name": "ipython",
    "version": 3
   },
   "file_extension": ".py",
   "mimetype": "text/x-python",
   "name": "python",
   "nbconvert_exporter": "python",
   "pygments_lexer": "ipython3",
   "version": "3.9.13"
  }
 },
 "nbformat": 4,
 "nbformat_minor": 5
}
