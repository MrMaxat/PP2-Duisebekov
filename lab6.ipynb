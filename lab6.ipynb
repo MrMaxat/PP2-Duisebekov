{
 "cells": [
  {
   "cell_type": "code",
   "execution_count": 1,
   "id": "f0b28cf8",
   "metadata": {},
   "outputs": [
    {
     "name": "stdout",
     "output_type": "stream",
     "text": [
      " 2 4 6\n",
      "48\n"
     ]
    }
   ],
   "source": [
    "import math\n",
    "a = list(map(int, input().split()))\n",
    "b = math.prod(a)\n",
    "print(b)"
   ]
  },
  {
   "cell_type": "code",
   "execution_count": 3,
   "id": "c2b1a64b",
   "metadata": {},
   "outputs": [
    {
     "name": "stdout",
     "output_type": "stream",
     "text": [
      "maxat\n",
      "0\n",
      "5\n"
     ]
    }
   ],
   "source": [
    "s = input()\n",
    "lower = sum(map(str.islower, s))\n",
    "upper = sum(map(str.isupper, s))\n",
    "print(upper)\n",
    "print(lower)"
   ]
  },
  {
   "cell_type": "code",
   "execution_count": 4,
   "id": "e15631be",
   "metadata": {},
   "outputs": [
    {
     "name": "stdout",
     "output_type": "stream",
     "text": [
      "abba\n",
      "True\n"
     ]
    }
   ],
   "source": [
    "def is_palindrome(string):\n",
    "    return string == string[::-1]\n",
    "print(is_palindrome(input()))"
   ]
  },
  {
   "cell_type": "code",
   "execution_count": 5,
   "id": "2b838f7a",
   "metadata": {},
   "outputs": [
    {
     "name": "stdout",
     "output_type": "stream",
     "text": [
      "Enter a number: 55\n",
      "Enter milliseconds: 12\n",
      "Square root of 55 after 12 miliseconds is 7.416198487095663\n"
     ]
    }
   ],
   "source": [
    "import time\n",
    "num = int(input(\"Enter a number: \"))\n",
    "milliseconds = int(input(\"Enter milliseconds: \"))\n",
    "time.sleep(milliseconds/1000)\n",
    "print(f\"Square root of {num} after {milliseconds} miliseconds is {num ** 0.5}\")"
   ]
  },
  {
   "cell_type": "code",
   "execution_count": 6,
   "id": "8ea133b1",
   "metadata": {},
   "outputs": [
    {
     "name": "stdout",
     "output_type": "stream",
     "text": [
      "1 1 1\n",
      "True\n"
     ]
    }
   ],
   "source": [
    "a = tuple(map(int, input().split()))\n",
    "print(all(a))"
   ]
  },
  {
   "cell_type": "code",
   "execution_count": 9,
   "id": "8c02623c",
   "metadata": {},
   "outputs": [
    {
     "name": "stdout",
     "output_type": "stream",
     "text": [
      "Files:\n",
      "['data.json', 'date.ipynb', 'generator.ipynb', 'json.ipynb', 'lab5.ipynb', 'math.ipynb', 'Untitled2.py', 'Untitled4.ipynb', 'Untitled6.ipynb']\n",
      "Directory:\n",
      "['.git']\n",
      "All directories, files:\n",
      "['.git', 'data.json', 'date.ipynb', 'generator.ipynb', 'json.ipynb', 'lab5.ipynb', 'math.ipynb', 'Untitled2.py', 'Untitled4.ipynb', 'Untitled6.ipynb']\n"
     ]
    }
   ],
   "source": [
    "import os\n",
    "path = \"C:\\\\Users\\\\Максат\\\\Documents\\\\GitHub\\\\PP2-Duisebekov\\\\\"\n",
    "files = [f for f in os.listdir(path) if os.path.isfile(os.path.join(path, f))]\n",
    "dirs = [d for d in os.listdir(path) if os.path.isdir(os.path.join(path, d))]\n",
    "both = [x for x in os.listdir(path)]\n",
    "print(\"Files:\")\n",
    "print(files)\n",
    "print(\"Directory:\")\n",
    "print(dirs)\n",
    "print(\"All directories, files:\")\n",
    "print(both)"
   ]
  },
  {
   "cell_type": "code",
   "execution_count": 10,
   "id": "096f196e",
   "metadata": {},
   "outputs": [
    {
     "name": "stdout",
     "output_type": "stream",
     "text": [
      "Exist: True\n",
      "Readable: True\n",
      "Writable: True\n",
      "Executable: True\n"
     ]
    }
   ],
   "source": [
    "import os\n",
    "print('Exist:', os.access('C:\\\\Users\\\\Максат\\\\Documents\\\\GitHub\\\\PP2-Duisebekov\\\\', os.F_OK))\n",
    "print('Readable:', os.access('C:\\\\Users\\\\Максат\\\\Documents\\\\GitHub\\\\PP2-Duisebekov\\\\', os.R_OK))\n",
    "print('Writable:', os.access('C:\\\\Users\\\\Максат\\\\Documents\\\\GitHub\\\\PP2-Duisebekov\\\\', os.W_OK))\n",
    "print('Executable:', os.access('C:\\\\Users\\\\Максат\\\\Documents\\\\GitHub\\\\PP2-Duisebekov\\\\', os.X_OK))"
   ]
  },
  {
   "cell_type": "code",
   "execution_count": 11,
   "id": "3e866022",
   "metadata": {},
   "outputs": [
    {
     "name": "stdout",
     "output_type": "stream",
     "text": [
      "Path exists\n",
      "Filename: \n",
      "Directory: C:\\Users\\Максат\\Documents\\GitHub\\PP2-Duisebekov\n"
     ]
    }
   ],
   "source": [
    "import os\n",
    "path = \"C:\\\\Users\\\\Максат\\\\Documents\\\\GitHub\\\\PP2-Duisebekov\\\\\"\n",
    "if os.path.exists(path):\n",
    "    print(\"Path exists\")\n",
    "    filename = os.path.basename(path)\n",
    "    directory = os.path.dirname(path)\n",
    "    print(\"Filename:\", filename)\n",
    "    print(\"Directory:\", directory)\n",
    "else:\n",
    "    print(\"Path does not exist.\")"
   ]
  },
  {
   "cell_type": "code",
   "execution_count": 13,
   "id": "e853f5db",
   "metadata": {},
   "outputs": [
    {
     "ename": "FileNotFoundError",
     "evalue": "[Errno 2] No such file or directory: 'test.txt'",
     "output_type": "error",
     "traceback": [
      "\u001b[1;31m---------------------------------------------------------------------------\u001b[0m",
      "\u001b[1;31mFileNotFoundError\u001b[0m                         Traceback (most recent call last)",
      "\u001b[1;32m~\\AppData\\Local\\Temp\\ipykernel_2272\\1672646160.py\u001b[0m in \u001b[0;36m<module>\u001b[1;34m\u001b[0m\n\u001b[0;32m      1\u001b[0m \u001b[1;32mimport\u001b[0m \u001b[0mos\u001b[0m\u001b[1;33m\u001b[0m\u001b[1;33m\u001b[0m\u001b[0m\n\u001b[1;32m----> 2\u001b[1;33m \u001b[1;32mwith\u001b[0m \u001b[0mopen\u001b[0m\u001b[1;33m(\u001b[0m\u001b[1;34m\"test.txt\"\u001b[0m\u001b[1;33m,\u001b[0m \u001b[1;34m\"r\"\u001b[0m\u001b[1;33m)\u001b[0m \u001b[1;32mas\u001b[0m \u001b[0mf\u001b[0m\u001b[1;33m:\u001b[0m\u001b[1;33m\u001b[0m\u001b[1;33m\u001b[0m\u001b[0m\n\u001b[0m\u001b[0;32m      3\u001b[0m     \u001b[0mprint\u001b[0m\u001b[1;33m(\u001b[0m\u001b[0msum\u001b[0m\u001b[1;33m(\u001b[0m\u001b[1;36m1\u001b[0m \u001b[1;32mfor\u001b[0m \u001b[0m_\u001b[0m \u001b[1;32min\u001b[0m \u001b[0mf\u001b[0m\u001b[1;33m)\u001b[0m\u001b[1;33m)\u001b[0m\u001b[1;33m\u001b[0m\u001b[1;33m\u001b[0m\u001b[0m\n",
      "\u001b[1;31mFileNotFoundError\u001b[0m: [Errno 2] No such file or directory: 'test.txt'"
     ]
    }
   ],
   "source": [
    "import os\n",
    "with open(\"test.txt\", \"r\") as f:\n",
    "    print(sum(1 for _ in f))"
   ]
  },
  {
   "cell_type": "code",
   "execution_count": null,
   "id": "15c82904",
   "metadata": {},
   "outputs": [],
   "source": []
  }
 ],
 "metadata": {
  "kernelspec": {
   "display_name": "Python 3 (ipykernel)",
   "language": "python",
   "name": "python3"
  },
  "language_info": {
   "codemirror_mode": {
    "name": "ipython",
    "version": 3
   },
   "file_extension": ".py",
   "mimetype": "text/x-python",
   "name": "python",
   "nbconvert_exporter": "python",
   "pygments_lexer": "ipython3",
   "version": "3.9.13"
  }
 },
 "nbformat": 4,
 "nbformat_minor": 5
}
