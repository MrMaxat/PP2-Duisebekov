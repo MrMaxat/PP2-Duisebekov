{
 "cells": [
  {
   "cell_type": "code",
   "execution_count": 1,
   "id": "2e31e0bc",
   "metadata": {},
   "outputs": [],
   "source": [
    "import math\n",
    "\n",
    "def degreeToRadian():\n",
    "    degree = int(input(\"Input degree: \"))\n",
    "    return f\"Output radian: {math.radians(degree)}\"\n",
    "\n",
    "def trapezoidArea():\n",
    "    h = int(input(\"Height: \"))\n",
    "    a = int(input(\"Base, first value: \"))\n",
    "    b = int(input(\"Base, second value: \"))\n",
    "    area = ((a + b) / 2) * h\n",
    "    return area\n",
    "\n",
    "def polygonArea():\n",
    "    n = int(input(\"Input number of sides: \"))\n",
    "    length = int(input(\"Input the length of sides: \"))\n",
    "    area = (n * length**2) / (4 * math.tan(math.pi/n))\n",
    "    return f\"The area of the polygon is: {round(area)}\"\n",
    "\n",
    "def parallelogramArea():\n",
    "    length = int(input(\"Length of base: \"))\n",
    "    height = int(input(\"Height of parallelogram: \"))\n",
    "    area = float(length * height)\n",
    "    return f\"Expected Output: {area}\""
   ]
  },
  {
   "cell_type": "code",
   "execution_count": null,
   "id": "d5768eab",
   "metadata": {},
   "outputs": [],
   "source": []
  }
 ],
 "metadata": {
  "kernelspec": {
   "display_name": "Python 3 (ipykernel)",
   "language": "python",
   "name": "python3"
  },
  "language_info": {
   "codemirror_mode": {
    "name": "ipython",
    "version": 3
   },
   "file_extension": ".py",
   "mimetype": "text/x-python",
   "name": "python",
   "nbconvert_exporter": "python",
   "pygments_lexer": "ipython3",
   "version": "3.9.13"
  }
 },
 "nbformat": 4,
 "nbformat_minor": 5
}
