{
 "cells": [
  {
   "cell_type": "code",
   "execution_count": 4,
   "id": "eeda6640",
   "metadata": {},
   "outputs": [
    {
     "ename": "ModuleNotFoundError",
     "evalue": "No module named 'pygame'",
     "output_type": "error",
     "traceback": [
      "\u001b[1;31m---------------------------------------------------------------------------\u001b[0m",
      "\u001b[1;31mModuleNotFoundError\u001b[0m                       Traceback (most recent call last)",
      "\u001b[1;32m~\\AppData\\Local\\Temp\\ipykernel_6952\\657023913.py\u001b[0m in \u001b[0;36m<module>\u001b[1;34m\u001b[0m\n\u001b[1;32m----> 1\u001b[1;33m \u001b[1;32mimport\u001b[0m \u001b[0mpygame\u001b[0m\u001b[1;33m\u001b[0m\u001b[1;33m\u001b[0m\u001b[0m\n\u001b[0m\u001b[0;32m      2\u001b[0m \u001b[0mpygame\u001b[0m\u001b[1;33m.\u001b[0m\u001b[0minit\u001b[0m\u001b[1;33m(\u001b[0m\u001b[1;33m)\u001b[0m\u001b[1;33m\u001b[0m\u001b[1;33m\u001b[0m\u001b[0m\n\u001b[0;32m      3\u001b[0m \u001b[0mpygame\u001b[0m\u001b[1;33m.\u001b[0m\u001b[0mdisplay\u001b[0m\u001b[1;33m.\u001b[0m\u001b[0mset_caption\u001b[0m\u001b[1;33m(\u001b[0m\u001b[1;34m\"Moving Ball\"\u001b[0m\u001b[1;33m)\u001b[0m\u001b[1;33m\u001b[0m\u001b[1;33m\u001b[0m\u001b[0m\n\u001b[0;32m      4\u001b[0m \u001b[1;33m\u001b[0m\u001b[0m\n\u001b[0;32m      5\u001b[0m \u001b[0mWIDTH\u001b[0m \u001b[1;33m=\u001b[0m \u001b[1;36m510\u001b[0m\u001b[1;33m\u001b[0m\u001b[1;33m\u001b[0m\u001b[0m\n",
      "\u001b[1;31mModuleNotFoundError\u001b[0m: No module named 'pygame'"
     ]
    }
   ],
   "source": [
    "import pygame\n",
    "pygame.init()\n",
    "pygame.display.set_caption(\"Moving Ball\")\n",
    "\n",
    "WIDTH = 510\n",
    "HEIGHT = 510\n",
    "FPS = 60\n",
    "\n",
    "x = 25\n",
    "y = 25\n",
    "\n",
    "screen = pygame.display.set_mode((WIDTH, HEIGHT))\n",
    "clock = pygame.time.Clock()\n",
    "screen.fill((255, 255, 255))\n",
    "running = True\n",
    "while running:\n",
    "    clock.tick(FPS)\n",
    "    for event in pygame.event.get():\n",
    "        if event.type == pygame.QUIT:\n",
    "            running = False\n",
    "\n",
    "    pressed = pygame.key.get_pressed()\n",
    "    if pressed[pygame.K_UP] and y > 25: y -= 20\n",
    "    if pressed[pygame.K_DOWN] and y < HEIGHT - 25: y += 20\n",
    "    if pressed[pygame.K_LEFT] and x > 25: x -= 20\n",
    "    if pressed[pygame.K_RIGHT] and x < WIDTH - 25: x += 20\n",
    "\n",
    "    screen.fill((255, 255, 255))\n",
    "    pygame.draw.circle(screen, (255, 0, 0), (x, y), 25)\n",
    "    pygame.display.flip()\n",
    "\n",
    "pygame.quit()"
   ]
  },
  {
   "cell_type": "code",
   "execution_count": 3,
   "id": "25928dce",
   "metadata": {},
   "outputs": [
    {
     "name": "stdout",
     "output_type": "stream",
     "text": [
      "Defaulting to user installation because normal site-packages is not writeable\n",
      "Collecting pygame\n",
      "  Downloading pygame-2.3.0-cp39-cp39-win_amd64.whl (10.6 MB)\n",
      "     --------------------------------------- 10.6/10.6 MB 24.1 kB/s eta 0:00:00\n",
      "Installing collected packages: pygame\n",
      "Successfully installed pygame-2.3.0\n"
     ]
    }
   ],
   "source": [
    "!pip install pygame"
   ]
  },
  {
   "cell_type": "code",
   "execution_count": null,
   "id": "ece60514",
   "metadata": {},
   "outputs": [],
   "source": [
    "import pygame\n",
    "pygame.init()\n",
    "pygame.display.set_caption(\"Moving Ball\")\n",
    "\n",
    "WIDTH = 510\n",
    "HEIGHT = 510\n",
    "FPS = 60\n",
    "\n",
    "x = 25\n",
    "y = 25\n",
    "\n",
    "screen = pygame.display.set_mode((WIDTH, HEIGHT))\n",
    "clock = pygame.time.Clock()\n",
    "screen.fill((255, 255, 255))\n",
    "running = True\n",
    "while running:\n",
    "    clock.tick(FPS)\n",
    "    for event in pygame.event.get():\n",
    "        if event.type == pygame.QUIT:\n",
    "            running = False\n",
    "\n",
    "    pressed = pygame.key.get_pressed()\n",
    "    if pressed[pygame.K_UP] and y > 25: y -= 20\n",
    "    if pressed[pygame.K_DOWN] and y < HEIGHT - 25: y += 20\n",
    "    if pressed[pygame.K_LEFT] and x > 25: x -= 20\n",
    "    if pressed[pygame.K_RIGHT] and x < WIDTH - 25: x += 20\n",
    "\n",
    "    screen.fill((255, 255, 255))\n",
    "    pygame.draw.circle(screen, (255, 0, 0), (x, y), 25)\n",
    "    pygame.display.flip()\n",
    "\n",
    "pygame.quit()"
   ]
  },
  {
   "cell_type": "code",
   "execution_count": 6,
   "id": "634e42d7",
   "metadata": {},
   "outputs": [
    {
     "ename": "ModuleNotFoundError",
     "evalue": "No module named 'pygame'",
     "output_type": "error",
     "traceback": [
      "\u001b[1;31m---------------------------------------------------------------------------\u001b[0m",
      "\u001b[1;31mModuleNotFoundError\u001b[0m                       Traceback (most recent call last)",
      "\u001b[1;32m~\\AppData\\Local\\Temp\\ipykernel_6952\\237222962.py\u001b[0m in \u001b[0;36m<module>\u001b[1;34m\u001b[0m\n\u001b[1;32m----> 1\u001b[1;33m \u001b[1;32mimport\u001b[0m \u001b[0mpygame\u001b[0m\u001b[1;33m\u001b[0m\u001b[1;33m\u001b[0m\u001b[0m\n\u001b[0m\u001b[0;32m      2\u001b[0m \u001b[0mprint\u001b[0m\u001b[1;33m(\u001b[0m\u001b[0mpygame\u001b[0m\u001b[1;33m.\u001b[0m\u001b[0mver\u001b[0m\u001b[1;33m)\u001b[0m\u001b[1;33m\u001b[0m\u001b[1;33m\u001b[0m\u001b[0m\n",
      "\u001b[1;31mModuleNotFoundError\u001b[0m: No module named 'pygame'"
     ]
    }
   ],
   "source": [
    "import pygame\n",
    "print(pygame.ver)"
   ]
  },
  {
   "cell_type": "code",
   "execution_count": 4,
   "id": "e079d609",
   "metadata": {},
   "outputs": [
    {
     "name": "stdout",
     "output_type": "stream",
     "text": [
      "Defaulting to user installation because normal site-packages is not writeable\n",
      "Requirement already satisfied: pygame in c:\\users\\максат\\appdata\\roaming\\python\\python39\\site-packages (2.3.0)\n"
     ]
    }
   ],
   "source": [
    "!pip install pygame\n"
   ]
  },
  {
   "cell_type": "code",
   "execution_count": 1,
   "id": "a5ab541e",
   "metadata": {},
   "outputs": [
    {
     "name": "stdout",
     "output_type": "stream",
     "text": [
      "pygame 2.3.0 (SDL 2.24.2, Python 3.9.13)\n",
      "Hello from the pygame community. https://www.pygame.org/contribute.html\n"
     ]
    }
   ],
   "source": [
    "import pygame\n",
    "pygame.init()\n",
    "pygame.display.set_caption(\"Moving Ball\")\n",
    "\n",
    "WIDTH = 510\n",
    "HEIGHT = 510\n",
    "FPS = 60\n",
    "\n",
    "x = 25\n",
    "y = 25\n",
    "\n",
    "screen = pygame.display.set_mode((WIDTH, HEIGHT))\n",
    "clock = pygame.time.Clock()\n",
    "screen.fill((255, 255, 255))\n",
    "running = True\n",
    "while running:\n",
    "    clock.tick(FPS)\n",
    "    for event in pygame.event.get():\n",
    "        if event.type == pygame.QUIT:\n",
    "            running = False\n",
    "\n",
    "    pressed = pygame.key.get_pressed()\n",
    "    if pressed[pygame.K_UP] and y > 25: y -= 20\n",
    "    if pressed[pygame.K_DOWN] and y < HEIGHT - 25: y += 20\n",
    "    if pressed[pygame.K_LEFT] and x > 25: x -= 20\n",
    "    if pressed[pygame.K_RIGHT] and x < WIDTH - 25: x += 20\n",
    "\n",
    "    screen.fill((255, 255, 255))\n",
    "    pygame.draw.circle(screen, (255, 0, 0), (x, y), 25)\n",
    "    pygame.display.flip()\n",
    "\n",
    "pygame.quit()"
   ]
  },
  {
   "cell_type": "code",
   "execution_count": 2,
   "id": "7ef50b85",
   "metadata": {},
   "outputs": [
    {
     "ename": "FileNotFoundError",
     "evalue": "No file 'mickey.png' found in working directory 'C:\\Users\\Максат\\anaconda'.",
     "output_type": "error",
     "traceback": [
      "\u001b[1;31m---------------------------------------------------------------------------\u001b[0m",
      "\u001b[1;31mFileNotFoundError\u001b[0m                         Traceback (most recent call last)",
      "\u001b[1;32m~\\AppData\\Local\\Temp\\ipykernel_15812\\4121190115.py\u001b[0m in \u001b[0;36m<module>\u001b[1;34m\u001b[0m\n\u001b[0;32m      3\u001b[0m \u001b[0mpygame\u001b[0m\u001b[1;33m.\u001b[0m\u001b[0minit\u001b[0m\u001b[1;33m(\u001b[0m\u001b[1;33m)\u001b[0m\u001b[1;33m\u001b[0m\u001b[1;33m\u001b[0m\u001b[0m\n\u001b[0;32m      4\u001b[0m \u001b[1;33m\u001b[0m\u001b[0m\n\u001b[1;32m----> 5\u001b[1;33m \u001b[0mmickey_mouse\u001b[0m \u001b[1;33m=\u001b[0m \u001b[0mpygame\u001b[0m\u001b[1;33m.\u001b[0m\u001b[0mtransform\u001b[0m\u001b[1;33m.\u001b[0m\u001b[0mscale\u001b[0m\u001b[1;33m(\u001b[0m\u001b[0mpygame\u001b[0m\u001b[1;33m.\u001b[0m\u001b[0mimage\u001b[0m\u001b[1;33m.\u001b[0m\u001b[0mload\u001b[0m\u001b[1;33m(\u001b[0m\u001b[1;34m'mickey.png'\u001b[0m\u001b[1;33m)\u001b[0m\u001b[1;33m,\u001b[0m \u001b[1;33m(\u001b[0m\u001b[0mint\u001b[0m\u001b[1;33m(\u001b[0m\u001b[1;36m600\u001b[0m \u001b[1;33m*\u001b[0m \u001b[1;36m1.3\u001b[0m\u001b[1;33m)\u001b[0m\u001b[1;33m,\u001b[0m \u001b[0mint\u001b[0m\u001b[1;33m(\u001b[0m\u001b[1;36m560\u001b[0m \u001b[1;33m*\u001b[0m \u001b[1;36m1.3\u001b[0m\u001b[1;33m)\u001b[0m\u001b[1;33m)\u001b[0m\u001b[1;33m)\u001b[0m\u001b[1;33m\u001b[0m\u001b[1;33m\u001b[0m\u001b[0m\n\u001b[0m\u001b[0;32m      6\u001b[0m \u001b[0mright_hand\u001b[0m \u001b[1;33m=\u001b[0m \u001b[0mpygame\u001b[0m\u001b[1;33m.\u001b[0m\u001b[0mtransform\u001b[0m\u001b[1;33m.\u001b[0m\u001b[0mscale\u001b[0m\u001b[1;33m(\u001b[0m\u001b[0mpygame\u001b[0m\u001b[1;33m.\u001b[0m\u001b[0mimage\u001b[0m\u001b[1;33m.\u001b[0m\u001b[0mload\u001b[0m\u001b[1;33m(\u001b[0m\u001b[1;34m'right hand.png'\u001b[0m\u001b[1;33m)\u001b[0m\u001b[1;33m,\u001b[0m \u001b[1;33m(\u001b[0m\u001b[1;36m594\u001b[0m \u001b[1;33m//\u001b[0m \u001b[1;36m2\u001b[0m\u001b[1;33m,\u001b[0m \u001b[1;36m322\u001b[0m \u001b[1;33m//\u001b[0m \u001b[1;36m2\u001b[0m\u001b[1;33m)\u001b[0m\u001b[1;33m)\u001b[0m\u001b[1;33m\u001b[0m\u001b[1;33m\u001b[0m\u001b[0m\n\u001b[0;32m      7\u001b[0m \u001b[0mleft_hand\u001b[0m \u001b[1;33m=\u001b[0m \u001b[0mpygame\u001b[0m\u001b[1;33m.\u001b[0m\u001b[0mtransform\u001b[0m\u001b[1;33m.\u001b[0m\u001b[0mscale\u001b[0m\u001b[1;33m(\u001b[0m\u001b[0mpygame\u001b[0m\u001b[1;33m.\u001b[0m\u001b[0mimage\u001b[0m\u001b[1;33m.\u001b[0m\u001b[0mload\u001b[0m\u001b[1;33m(\u001b[0m\u001b[1;34m'left hand.png'\u001b[0m\u001b[1;33m)\u001b[0m\u001b[1;33m,\u001b[0m \u001b[1;33m(\u001b[0m\u001b[1;36m650\u001b[0m \u001b[1;33m//\u001b[0m \u001b[1;36m2\u001b[0m\u001b[1;33m,\u001b[0m \u001b[1;36m230\u001b[0m \u001b[1;33m//\u001b[0m \u001b[1;36m2\u001b[0m\u001b[1;33m)\u001b[0m\u001b[1;33m)\u001b[0m\u001b[1;33m\u001b[0m\u001b[1;33m\u001b[0m\u001b[0m\n",
      "\u001b[1;31mFileNotFoundError\u001b[0m: No file 'mickey.png' found in working directory 'C:\\Users\\Максат\\anaconda'."
     ]
    }
   ],
   "source": [
    "import pygame, datetime, math\n",
    "from math import sin, cos, pi\n",
    "pygame.init()\n",
    "\n",
    "mickey_mouse = pygame.transform.scale(pygame.image.load('mickey.png'), (int(600 * 1.3), int(560 * 1.3)))\n",
    "right_hand = pygame.transform.scale(pygame.image.load('right hand.png'), (594 // 2, 322 // 2))\n",
    "left_hand = pygame.transform.scale(pygame.image.load('left hand.png'), (650 // 2, 230 // 2))\n",
    "\n",
    "SIZE = (800, 800)\n",
    "center = (SIZE[0] / 2, SIZE[0] / 2)\n",
    "clock_radius = 350\n",
    "screen = pygame.display.set_mode(SIZE)\n",
    "pygame.display.set_caption(\"Clock\")\n",
    "FPS = 60\n",
    "clock = pygame.time.Clock()\n",
    "\n",
    "def polar_to_cartesian(r, theta):\n",
    "    x = r * sin(pi * theta / 180)\n",
    "    y = r * cos(pi * theta / 180)\n",
    "    return x + SIZE[0] / 2, -(y - SIZE[1] / 2)\n",
    "def blitRotateCenter(surf, image, topleft, angle):\n",
    "    rotated_image = pygame.transform.rotate(image, angle)\n",
    "    new_rect = rotated_image.get_rect(center=image.get_rect(topleft=topleft).center)\n",
    "    surf.blit(rotated_image, new_rect)\n",
    "\n",
    "def blitRotate(surf, image, pos, originPos, angle):\n",
    "    image_rect = image.get_rect(topleft=(pos[0] - originPos[0], pos[1] - originPos[1]))\n",
    "    offset_center_to_pivot = pygame.math.Vector2(pos) - image_rect.center\n",
    "    rotated_offset = offset_center_to_pivot.rotate(angle)\n",
    "    rotated_image_center = (pos[0] - rotated_offset.x, pos[1] - rotated_offset.y)\n",
    "    rotated_image = pygame.transform.rotate(image, -angle)\n",
    "    rotated_image_rect = rotated_image.get_rect(center=rotated_image_center)\n",
    "    surf.blit(rotated_image, rotated_image_rect)\n",
    "\n",
    "def main():\n",
    "    running = True\n",
    "    while running:\n",
    "        for event in pygame.event.get():\n",
    "            if event.type == pygame.QUIT:\n",
    "                running = False\n",
    "\n",
    "        screen.fill((255, 255, 255))\n",
    "        screen.blit(mickey_mouse, (10, 30))\n",
    "        current_date_time = datetime.datetime.now()\n",
    "        minute = current_date_time.minute\n",
    "        second = current_date_time.second\n",
    "\n",
    "        ## Minutes\n",
    "        theta = (minute + second / 60) * (360 / 60)\n",
    "        blitRotate(screen, right_hand, center, (right_hand.get_width() / 2 + 110, left_hand.get_height() / 2 + 75),                   theta + 75)\n",
    "        ## Seconds\n",
    "        theta = second * (360 / 60)\n",
    "        blitRotate(screen, left_hand, center, (left_hand.get_width() / 2 - 145, left_hand.get_height() / 2), theta - 87)\n",
    "        pygame.display.update()\n",
    "\n",
    "    clock.tick(FPS)\n",
    "    pygame.quit()\n",
    "\n",
    "main()"
   ]
  },
  {
   "cell_type": "code",
   "execution_count": null,
   "id": "b4eb37e9",
   "metadata": {},
   "outputs": [],
   "source": []
  }
 ],
 "metadata": {
  "kernelspec": {
   "display_name": "Python 3 (ipykernel)",
   "language": "python",
   "name": "python3"
  },
  "language_info": {
   "codemirror_mode": {
    "name": "ipython",
    "version": 3
   },
   "file_extension": ".py",
   "mimetype": "text/x-python",
   "name": "python",
   "nbconvert_exporter": "python",
   "pygments_lexer": "ipython3",
   "version": "3.9.13"
  }
 },
 "nbformat": 4,
 "nbformat_minor": 5
}
