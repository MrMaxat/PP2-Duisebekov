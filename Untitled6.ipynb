{
 "cells": [
  {
   "cell_type": "code",
   "execution_count": 3,
   "id": "187e8491",
   "metadata": {},
   "outputs": [],
   "source": [
    "def my_function(): #1\n",
    "  print(\"Hello from a function\")"
   ]
  },
  {
   "cell_type": "code",
   "execution_count": 4,
   "id": "b25139e5",
   "metadata": {},
   "outputs": [
    {
     "name": "stdout",
     "output_type": "stream",
     "text": [
      "Hello from a function\n"
     ]
    }
   ],
   "source": [
    "def my_function(): #2\n",
    "  print(\"Hello from a function\")\n",
    "my_function()"
   ]
  },
  {
   "cell_type": "code",
   "execution_count": 6,
   "id": "ad6e485f",
   "metadata": {},
   "outputs": [],
   "source": [
    "def my_function(fname, lname): #3\n",
    "  print(fname)"
   ]
  },
  {
   "cell_type": "code",
   "execution_count": 8,
   "id": "0b47d2d8",
   "metadata": {},
   "outputs": [],
   "source": [
    "def my_function(x): #4\n",
    "    return x + 5"
   ]
  },
  {
   "cell_type": "code",
   "execution_count": 9,
   "id": "0b113072",
   "metadata": {},
   "outputs": [],
   "source": [
    "def my_function(*kids): #5\n",
    "  print(\"The youngest child is \" + kids[2])"
   ]
  },
  {
   "cell_type": "code",
   "execution_count": 10,
   "id": "73c40e9f",
   "metadata": {},
   "outputs": [],
   "source": [
    "def my_function(**kid): #6\n",
    "  print(\"His last name is \" + kid[\"lname\"])"
   ]
  },
  {
   "cell_type": "code",
   "execution_count": 12,
   "id": "734a16b2",
   "metadata": {},
   "outputs": [],
   "source": [
    "x = lambda a : a #7"
   ]
  },
  {
   "cell_type": "code",
   "execution_count": 13,
   "id": "6e1454e5",
   "metadata": {},
   "outputs": [],
   "source": [
    "class MyClass: #8\n",
    "    x = 5"
   ]
  },
  {
   "cell_type": "code",
   "execution_count": 14,
   "id": "aed64019",
   "metadata": {},
   "outputs": [],
   "source": [
    "class MyClass: #9\n",
    "    x = 5\n",
    "p1 = MyClass()"
   ]
  },
  {
   "cell_type": "code",
   "execution_count": 15,
   "id": "2fd190e3",
   "metadata": {},
   "outputs": [
    {
     "name": "stdout",
     "output_type": "stream",
     "text": [
      "5\n"
     ]
    }
   ],
   "source": [
    "class MyClass: #10\n",
    "    x = 5\n",
    "p1 = MyClass()\n",
    "print(p1.x)"
   ]
  },
  {
   "cell_type": "code",
   "execution_count": 16,
   "id": "d1c7e1bd",
   "metadata": {},
   "outputs": [],
   "source": [
    "class Person: #11\n",
    "  def __init__(self, name, age):\n",
    "    self.name = name\n",
    "    self.age = age"
   ]
  },
  {
   "cell_type": "code",
   "execution_count": 20,
   "id": "5ec71a55",
   "metadata": {},
   "outputs": [
    {
     "ename": "IndentationError",
     "evalue": "expected an indented block (2215072841.py, line 1)",
     "output_type": "error",
     "traceback": [
      "\u001b[1;36m  File \u001b[1;32m\"C:\\Users\\Максат\\AppData\\Local\\Temp\\ipykernel_17376\\2215072841.py\"\u001b[1;36m, line \u001b[1;32m1\u001b[0m\n\u001b[1;33m    class Student(Person): #12\u001b[0m\n\u001b[1;37m                              ^\u001b[0m\n\u001b[1;31mIndentationError\u001b[0m\u001b[1;31m:\u001b[0m expected an indented block\n"
     ]
    }
   ],
   "source": [
    "class Student(Person): #12"
   ]
  },
  {
   "cell_type": "code",
   "execution_count": 21,
   "id": "0c6b0a37",
   "metadata": {},
   "outputs": [
    {
     "name": "stdout",
     "output_type": "stream",
     "text": [
      "Mike\n"
     ]
    }
   ],
   "source": [
    "class Person: #13\n",
    "  def __init__(self, fname):\n",
    "    self.firstname = fname\n",
    "  def printname(self):\n",
    "    print(self.firstname)\n",
    "class Student(Person):\n",
    "  pass\n",
    "x = Student(\"Mike\")\n",
    "x.printname()"
   ]
  }
 ],
 "metadata": {
  "kernelspec": {
   "display_name": "Python 3 (ipykernel)",
   "language": "python",
   "name": "python3"
  },
  "language_info": {
   "codemirror_mode": {
    "name": "ipython",
    "version": 3
   },
   "file_extension": ".py",
   "mimetype": "text/x-python",
   "name": "python",
   "nbconvert_exporter": "python",
   "pygments_lexer": "ipython3",
   "version": "3.9.13"
  }
 },
 "nbformat": 4,
 "nbformat_minor": 5
}
