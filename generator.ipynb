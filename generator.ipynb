{
 "cells": [
  {
   "cell_type": "code",
   "execution_count": 1,
   "id": "31f4173d",
   "metadata": {},
   "outputs": [],
   "source": [
    "def squares():\n",
    "    n=int(input())\n",
    "    a=(int(i)**2 for i in range(0,n))\n",
    "    for i in range(n):\n",
    "        print(next(a))"
   ]
  },
  {
   "cell_type": "code",
   "execution_count": 2,
   "id": "6c42a932",
   "metadata": {},
   "outputs": [],
   "source": [
    "def evens():\n",
    "    n=int(input())\n",
    "    a=(int(i) for i in range(0, n, 2))\n",
    "    for i in range(int(n/2)):\n",
    "        print(next(a), end = \", \")\n",
    "    print(next(a))"
   ]
  },
  {
   "cell_type": "code",
   "execution_count": 3,
   "id": "28f8a526",
   "metadata": {},
   "outputs": [],
   "source": [
    "def devesibility():\n",
    "    n = int(input())\n",
    "    x = lambda x : x if (x % 3 == 0 and x % 4 == 0) or x == 0 else \"o\"\n",
    "    a = (x(i) for i in range(0, n))\n",
    "    for i in range(n):\n",
    "        y = next(a)\n",
    "        if(y != \"o\"):\n",
    "            print(y)"
   ]
  },
  {
   "cell_type": "code",
   "execution_count": 4,
   "id": "1178e11c",
   "metadata": {},
   "outputs": [],
   "source": [
    "def squaresFromAtoB():\n",
    "    a = int(input())\n",
    "    b = int(input())\n",
    "    gen = (int(i)**2 for i in range(a, b + 1))\n",
    "    for i in range((b-a) + 1):\n",
    "        print(next(gen))"
   ]
  },
  {
   "cell_type": "code",
   "execution_count": 5,
   "id": "4db2ed5e",
   "metadata": {},
   "outputs": [],
   "source": [
    "def decreasing():\n",
    "    n = int(input())\n",
    "    a = (i for i in range(n, 0, -1))\n",
    "    for i in range(n):\n",
    "        print(next(a))"
   ]
  },
  {
   "cell_type": "code",
   "execution_count": null,
   "id": "384f8cbe",
   "metadata": {},
   "outputs": [],
   "source": []
  }
 ],
 "metadata": {
  "kernelspec": {
   "display_name": "Python 3 (ipykernel)",
   "language": "python",
   "name": "python3"
  },
  "language_info": {
   "codemirror_mode": {
    "name": "ipython",
    "version": 3
   },
   "file_extension": ".py",
   "mimetype": "text/x-python",
   "name": "python",
   "nbconvert_exporter": "python",
   "pygments_lexer": "ipython3",
   "version": "3.9.13"
  }
 },
 "nbformat": 4,
 "nbformat_minor": 5
}
